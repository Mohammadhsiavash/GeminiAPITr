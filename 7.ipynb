{
 "cells": [
  {
   "cell_type": "markdown",
   "metadata": {},
   "source": [
    "## Prompting with Audio"
   ]
  },
  {
   "cell_type": "code",
   "execution_count": null,
   "metadata": {},
   "outputs": [],
   "source": [
    "import google.generativeai as genai\n",
    "from IPython.display import Image, Markdown\n",
    "import os\n",
    "from dotenv import load_dotenv, find_dotenv\n",
    "load_dotenv(find_dotenv(), override=True)\n",
    "os.environ.get('GOOGLE_API_KEY')\n",
    "\n",
    "genai.configure(api_key=os.environ.get('GOOGLE_API_KEY'))"
   ]
  },
  {
   "cell_type": "code",
   "execution_count": null,
   "metadata": {},
   "outputs": [],
   "source": [
    "audio_file = genai.upload_file(path='sample0.mp3')\n",
    "model = genai.GenerativeModel('learnlm-1.5-pro-experimental')"
   ]
  },
  {
   "cell_type": "code",
   "execution_count": null,
   "metadata": {},
   "outputs": [],
   "source": [
    "prompt = 'Create a transcript for this file and translate it to english'\n",
    "response = model.generate_content([prompt, audio_file])"
   ]
  },
  {
   "cell_type": "code",
   "execution_count": 15,
   "metadata": {},
   "outputs": [
    {
     "name": "stdout",
     "output_type": "stream",
     "text": [
      "می خواهم معجزه بخرم.\n",
      "وقتی سارا دخترک هشت ساله‌ای بود شنید که پدر و مادرش درباره برادر کوچکش صحبت می‌کنند. فهمید که برادرش سخت بیمار است و آنها پولی برای مداوای او ندارند. \n",
      "پدر به تازگی کارش را از دست داده بود و نمی‌توانست هزینه جراحی پر خرج برادر را بپردازد. \n",
      "سارا شنید که پدر آهسته به مادر گفت: \"فقط معجزه می‌تونه پسرمون رو نجات بده.\" سارا با ناراحتی به اتاق خوابش رفت و از زیر تخت قلک کوچکش را درآورد. قلک را شکست، سکه‌ها را روی تخت ریخت و آنها را شمرد. فقط پنج دلار! \n",
      "بعد آهسته از در عقبی خانه خارج شد و چند کوچه بالاتر به داروخانه رفت. \n",
      "جلوی پیشخوان انتظار کشید تا داروساز به او توجه کند. ولی داروساز سرش شلوغ تر از آن بود که متوجه بچه‌ای هشت ساله شود. دخترک پاهایش را بهم می‌زد و سرفه می‌کرد ولی داروساز توجهی نمی‌کرد. بلاخره حوصله سارا سر رفت و سکه‌ها را محکم روی شیشه پیشخوان ریخت. داروساز جا خورد و رو به دخترک کرد و گفت: \"چه می‌خواهی؟\" \n",
      "دخترک جواب داد: \"برادرم خیلی مریضه. می‌خوام معجزه بخرم.\"\n",
      "داروساز با تعجب پرسید: \"ببخشید؟\" \n",
      "دخترک توضیح داد: \"برادر کوچک من داخل سرش چیزی رفته و بابام می‌گه که فقط معجزه می‌تونه اونو نجات بده. من می‌خوام معجزه بخرم. قیمتش چقدره؟\"\n",
      "داروساز گفت: \"متاسفم دختر جون ولی ما اینجا معجزه نمی‌فروشیم.\" چشمان دخترک پر از اشک شد و گفت: \"شما رو به خدا، اون خیلی مریضه. بابام پول نداره تا معجزه بخره. این هم تمام پول منه. من کجا می‌تونم معجزه بخرم؟\" \n",
      "مردی که گوشه‌ای ایستاده بود و لباس تمیز و مرتبی داشت، از دخترک پرسید: \"چقدر پول داری؟\" دخترک پول‌ها را کف دستش ریخت و به مرد نشان داد. مرد لبخندی زد و گفت: \"آه! چه جالب! فکر می‌کنم این پول برای خرید معجزه برادرت کافیه.\" بعد به آرامی دست او را گرفت و گفت: \"من می‌خوام برادر و والدینت رو ببینم. فکر می‌کنم معجزه برادرت پیش منه.\"\n",
      "آن مرد دکتر آرمسترانگ، فوق تخصص مغز و اعصاب بود. فردای آن روز، عمل جراحی روی مغز پسرک با موفقیت انجام شد و او از مرگ حتمی نجات پیدا کرد. \n",
      "پس از جراحی، پدر نزد دکتر رفت و گفت: \"از شما متشکرم. نجات پسرم یه معجزه واقعی بود. می‌خوام بدونم بابت هزینه عمل جراحی چقدر باید پرداخت کنم؟\" \n",
      "دکتر لبخندی زد و گفت: \"فقط پنج دلار.\"\n",
      "\n",
      "\n",
      "I want to buy a miracle.\n",
      "\n",
      "When Sara was an eight-year-old girl, she heard her parents talking about her little brother. She realized that her brother was very sick and they didn't have money for his treatment.\n",
      "\n",
      "Her father had recently lost his job and couldn't afford the expensive surgery for his brother.\n",
      "\n",
      "Sara heard her father whisper to her mother, \"Only a miracle can save our son.\" Sara sadly went to her bedroom and took out her little piggy bank from under the bed. She broke the piggy bank, poured the coins on the bed, and counted them. Only five dollars!\n",
      "\n",
      "Then she quietly went out the back door of the house and went to the pharmacy a few blocks away.\n",
      "\n",
      "She waited at the counter for the pharmacist to notice her. But the pharmacist was too busy to notice an eight-year-old child. The girl shuffled her feet and coughed, but the pharmacist didn't pay attention. Finally, Sara lost her patience and slammed the coins on the counter glass. The pharmacist was startled and turned to the girl and said, \"What do you want?\"\n",
      "\n",
      "The girl replied, \"My brother is very sick. I want to buy a miracle.\"\n",
      "\n",
      "The pharmacist asked in surprise, \"Excuse me?\"\n",
      "\n",
      "The girl explained, \"Something has gone into my little brother's head and my dad says that only a miracle can save him. I want to buy a miracle. How much does it cost?\"\n",
      "\n",
      "The pharmacist said, \"I'm sorry, little girl, but we don't sell miracles here.\" The girl's eyes filled with tears and she said, \"For God's sake, he's very sick. My dad doesn't have the money to buy a miracle. This is all the money I have. Where can I buy a miracle?\"\n",
      "\n",
      "A man who was standing in a corner and was wearing neat and clean clothes asked the girl, \"How much money do you have?\" The girl poured the money into her palm and showed it to the man. The man smiled and said, \"Oh! How interesting! I think this money is enough to buy a miracle for your brother.\" Then he gently took her hand and said, \"I want to see your brother and your parents. I think I have your brother's miracle.\"\n",
      "\n",
      "That man was Dr. Armstrong, a neurosurgeon. The next day, the surgery on the boy's brain was successfully performed and he was saved from certain death.\n",
      "\n",
      "After the surgery, the father went to the doctor and said, \"Thank you. Saving my son was a real miracle. I want to know how much I have to pay for the surgery?\"\n",
      "\n",
      "The doctor smiled and said, \"Only five dollars.\"\n",
      "\n"
     ]
    }
   ],
   "source": [
    "print(response.text)"
   ]
  },
  {
   "cell_type": "code",
   "execution_count": null,
   "metadata": {},
   "outputs": [],
   "source": []
  }
 ],
 "metadata": {
  "kernelspec": {
   "display_name": "base",
   "language": "python",
   "name": "python3"
  },
  "language_info": {
   "codemirror_mode": {
    "name": "ipython",
    "version": 3
   },
   "file_extension": ".py",
   "mimetype": "text/x-python",
   "name": "python",
   "nbconvert_exporter": "python",
   "pygments_lexer": "ipython3",
   "version": "3.12.4"
  }
 },
 "nbformat": 4,
 "nbformat_minor": 2
}
