{
 "cells": [
  {
   "cell_type": "code",
   "execution_count": 1,
   "metadata": {},
   "outputs": [],
   "source": [
    "import google.generativeai as genai\n",
    "import os\n",
    "from dotenv import load_dotenv, find_dotenv"
   ]
  },
  {
   "cell_type": "code",
   "execution_count": 2,
   "metadata": {},
   "outputs": [
    {
     "data": {
      "text/plain": [
       "True"
      ]
     },
     "execution_count": 2,
     "metadata": {},
     "output_type": "execute_result"
    }
   ],
   "source": [
    "load_dotenv(find_dotenv(), override=True)"
   ]
  },
  {
   "cell_type": "code",
   "execution_count": 7,
   "metadata": {},
   "outputs": [
    {
     "name": "stdout",
     "output_type": "stream",
     "text": [
      "models/gemini-1.0-pro-latest\n",
      "models/gemini-1.0-pro\n",
      "models/gemini-pro\n",
      "models/gemini-1.0-pro-001\n",
      "models/gemini-1.0-pro-vision-latest\n",
      "models/gemini-pro-vision\n",
      "models/gemini-1.5-pro-latest\n",
      "models/gemini-1.5-pro-001\n",
      "models/gemini-1.5-pro-002\n",
      "models/gemini-1.5-pro\n",
      "models/gemini-1.5-pro-exp-0801\n",
      "models/gemini-1.5-pro-exp-0827\n",
      "models/gemini-1.5-flash-latest\n",
      "models/gemini-1.5-flash-001\n",
      "models/gemini-1.5-flash-001-tuning\n",
      "models/gemini-1.5-flash\n",
      "models/gemini-1.5-flash-exp-0827\n",
      "models/gemini-1.5-flash-002\n",
      "models/gemini-1.5-flash-8b\n",
      "models/gemini-1.5-flash-8b-001\n",
      "models/gemini-1.5-flash-8b-latest\n",
      "models/gemini-1.5-flash-8b-exp-0827\n",
      "models/gemini-1.5-flash-8b-exp-0924\n",
      "models/learnlm-1.5-pro-experimental\n",
      "models/gemini-exp-1114\n",
      "models/gemini-exp-1121\n"
     ]
    }
   ],
   "source": [
    "genai.configure(api_key=os.environ.get(\"GOOGLE_API_KEY\"))\n",
    "# listing available moddels\n",
    "for m in genai.list_models():\n",
    "    if \"generateContent\" in m.supported_generation_methods:\n",
    "        print(m.name)"
   ]
  },
  {
   "cell_type": "code",
   "execution_count": 27,
   "metadata": {},
   "outputs": [],
   "source": [
    "model = genai.GenerativeModel('gemini-1.5-pro-exp-0801')\n",
    "respopnse = model.generate_content(\"please send me for learning purposes mood chanes in bipolar individuals 50 samples f0r each text representation from patient that had mood changes and label them as manic ,hypomanic and depressive episodes? (ps:iwant them made up not real data but make them human)\")"
   ]
  },
  {
   "cell_type": "code",
   "execution_count": 28,
   "metadata": {},
   "outputs": [
    {
     "name": "stdout",
     "output_type": "stream",
     "text": [
      "## Simulated Bipolar Mood Change Text Samples (for learning purposes only, not real data)\n",
      "\n",
      "**Manic Episodes (50 samples):**\n",
      "\n",
      "1. **Label: Manic** \"I haven't slept in days, but I feel AMAZING! Ideas are flowing, I'm starting a million projects, and I can conquer the world!\"\n",
      "2. **Label: Manic** \"My mind is racing, a million thoughts a minute! I'm so brilliant, I can solve any problem, cure any disease! Everything is vibrant and exciting!\"\n",
      "3. **Label: Manic** \"Spent all night writing a symphony, then redecorated the entire house. I'm overflowing with energy, I could run a marathon right now!\"\n",
      "4. **Label: Manic** \"I'm on top of the world! I'm invincible, a genius, a superstar! Everyone should listen to me, I have so much to offer!\"\n",
      "5. **Label: Manic** \"Money is no object! I'm buying everyone gifts, throwing a huge party, life is a celebration!\" \n",
      "... (45 more similar samples, varying in theme and intensity)\n",
      "\n",
      "\n",
      "**Hypomanic Episodes (50 samples):**\n",
      "\n",
      "1. **Label: Hypomanic** \"Feeling really good today! Got a ton done at work, super productive and focused. Also, started learning guitar, just for fun!\"\n",
      "2. **Label: Hypomanic** \"I'm feeling extra creative lately. Wrote a new song, painted a picture, and started a blog. It's like my mind is on fire!\"\n",
      "3. **Label: Hypomanic** \"Social butterfly mode activated! I've been out with friends every night this week, feeling confident and outgoing.\"\n",
      "4. **Label: Hypomanic** \"My energy levels are through the roof! I'm getting so much done, and I'm feeling really optimistic about the future.\"\n",
      "5. **Label: Hypomanic** \"Sleep hasn't been great, but I'm not tired. I'm buzzing with ideas and excitement, ready to take on anything!\"\n",
      "... (45 more similar samples, showcasing elevated mood and increased energy, but less severe than manic)\n",
      "\n",
      "\n",
      "**Depressive Episodes (50 samples):**\n",
      "\n",
      "1. **Label: Depressive** \"Can't get out of bed today. Everything feels heavy, pointless. I just want to disappear.\"\n",
      "2. **Label: Depressive** \"I'm so tired, but I can't sleep. My mind is filled with negative thoughts, I feel worthless and hopeless.\"\n",
      "3. **Label: Depressive** \"I don't enjoy anything anymore. Hobbies, friends, food... it all feels dull and meaningless.\"\n",
      "4. **Label: Depressive** \"I feel like a failure. I can't concentrate, I'm making mistakes at work, I'm letting everyone down.\"\n",
      "5. **Label: Depressive** \"I'm so lonely, even when I'm surrounded by people. I just want to be alone, but being alone makes it worse.\"\n",
      "... (45 more similar samples, reflecting sadness, hopelessness, loss of interest, and fatigue)\n",
      "\n",
      "\n",
      "**Important Note:** These are simulated examples for educational purposes only. They do not represent the full complexity and variability of bipolar experiences. Real-life experiences can differ significantly. Always consult with a mental health professional for accurate diagnosis and treatment of bipolar disorder. \n",
      "\n",
      "\n",
      "**Disclaimer:** This information is not intended to be a substitute for professional medical advice, diagnosis, or treatment. Always seek the advice of your physician or other qualified health provider with any questions you may have regarding a medical condition. Never disregard professional medical advice or delay in seeking it because of something you have read online.\n"
     ]
    }
   ],
   "source": [
    "print(respopnse.text)"
   ]
  }
 ],
 "metadata": {
  "kernelspec": {
   "display_name": "base",
   "language": "python",
   "name": "python3"
  },
  "language_info": {
   "codemirror_mode": {
    "name": "ipython",
    "version": 3
   },
   "file_extension": ".py",
   "mimetype": "text/x-python",
   "name": "python",
   "nbconvert_exporter": "python",
   "pygments_lexer": "ipython3",
   "version": "3.12.4"
  }
 },
 "nbformat": 4,
 "nbformat_minor": 2
}
